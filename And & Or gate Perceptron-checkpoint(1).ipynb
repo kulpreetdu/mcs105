{
 "cells": [
  {
   "cell_type": "code",
   "execution_count": 3,
   "metadata": {},
   "outputs": [
    {
     "name": "stderr",
     "output_type": "stream",
     "text": [
      "C:\\ProgramData\\Anaconda3\\lib\\site-packages\\sklearn\\linear_model\\stochastic_gradient.py:128: FutureWarning: max_iter and tol parameters have been added in <class 'sklearn.linear_model.perceptron.Perceptron'> in 0.19. If both are left unset, they default to max_iter=5 and tol=None. If tol is not None, max_iter defaults to max_iter=1000. From 0.21, default max_iter will be 1000, and default tol will be 1e-3.\n",
      "  \"and default tol will be 1e-3.\" % type(self), FutureWarning)\n"
     ]
    },
    {
     "name": "stdout",
     "output_type": "stream",
     "text": [
      "Output: 0\n"
     ]
    }
   ],
   "source": [
    "import numpy as np\n",
    "import pandas as pd\n",
    "import sklearn\n",
    "from sklearn.linear_model import Perceptron\n",
    "x = np.array([ [0, 0], [0, 1], [1, 0], [1, 1] ])\n",
    "y = np.array([0, 1, 1, 1])\n",
    "model = Perceptron()\n",
    "model.fit(x, y)\n",
    "print('Output: %d' % int(model.predict([[0, 0]])))"
   ]
  },
  {
   "cell_type": "code",
   "execution_count": 42,
   "metadata": {},
   "outputs": [],
   "source": [
    "from matplotlib import pyplot as plt\n",
    "%matplotlib inline\n",
    "\n",
    "import numpy as np\n",
    "\n",
    "class Perceptron(object):\n",
    "\n",
    "    def __init__(self, no_of_inputs, n=100, learning_rate=0.05):\n",
    "        '''\n",
    "        Objective: To initialize data memebers\n",
    "        Input Parameters: s\n",
    "            self - object of type Perceptron\n",
    "            no_of_inputs, epochs, learning_rate - int\n",
    "        Return Value: None\n",
    "        '''\n",
    "        self.epochs = n\n",
    "        self.learning_rate = learning_rate\n",
    "        self.weights = 0.05 * np.random.randn(no_of_inputs + 1)# weights corr to num_inputs + 1 for bias \n",
    "        print(\"Initial values of weights\",self.weights)\n",
    "    def predict(self, inputs):\n",
    "        '''\n",
    "        Objective: To predict the output\n",
    "        Input Parameters: \n",
    "            self - object of type Perceptron\n",
    "            inputs - numpy array\n",
    "        Return Value: Binary\n",
    "        '''\n",
    "        summation = np.dot(self.weights[1:].T, inputs) + self.weights[0]\n",
    "        if summation > 0:\n",
    "          activation = 1\n",
    "        else:\n",
    "          activation = 0            \n",
    "        return activation\n",
    "\n",
    "    def train(self, training_inputs, labels):\n",
    "        '''\n",
    "        Objective: To train the model so as to tune weights\n",
    "        Input Parameters:  \n",
    "                self - object of type Perceptron\n",
    "                training_inputs, labels - np array\n",
    "        Return Value: None\n",
    "        '''\n",
    "        #print(training_inputs.shape, self.weights.shape)\n",
    "        for _ in range(self.epochs):\n",
    "            deltaWeights = np.array([0] * training_inputs.shape[1]).astype('float64')\n",
    "            deltaBias = 0.0\n",
    "            nInstances = training_inputs.shape[0]\n",
    "            for inputs, label in zip(training_inputs, labels):\n",
    "                prediction = self.predict(inputs)\n",
    "                deltaWeights += self.learning_rate * (label - prediction) * inputs\n",
    "                deltaBias += self.learning_rate * (label - prediction)\n",
    "            self.weights[1:] += (1/nInstances)*deltaWeights\n",
    "            self.weights[0] += (1/nInstances)*deltaBias\n"
   ]
  },
  {
   "cell_type": "code",
   "execution_count": 44,
   "metadata": {},
   "outputs": [
    {
     "name": "stdout",
     "output_type": "stream",
     "text": [
      "Initial values of weights [0.04375257 0.03135054 0.04873557]\n",
      "Initial values of weights [ 0.01829537 -0.0369901  -0.01980339]\n",
      "Initial values of weights [ 0.04896054 -0.09656754 -0.03764929]\n",
      "Initial values of weights [ 0.04644896 -0.03774126]\n",
      "0\n"
     ]
    }
   ],
   "source": [
    "#Approach <- x1 XOR x2 is equal to [(x1`).x2 + (x2`).x1]\n",
    "\n",
    "training_inputs = np.array([ [0, 0], [0, 1], [1, 0], [1, 1] ])\n",
    "\n",
    "'''\n",
    "Model 1 \n",
    "Objective <- Find (x1`).x2\n",
    "Input <- x1 & x2\n",
    "Output <- Result of ((x1`).x2)\n",
    "'''\n",
    "labels = np.array([0, 0, 1, 0])\n",
    "model1 = Perceptron(2)\n",
    "model1.train(training_inputs, labels)\n",
    "\n",
    "\n",
    "'''\n",
    "Model 2\n",
    "Objective <- Find (x2`).x1\n",
    "Input <- x1 & x2\n",
    "Output <- Result of ((x2`).x1)\n",
    "'''\n",
    "labels = np.array([0, 1, 0, 0])\n",
    "model2 = Perceptron(2)\n",
    "model2.train(training_inputs, labels)\n",
    "\n",
    "'''\n",
    "Model3\n",
    "Objective <- Find ((x1`).x2) + ((x2`).x1)\n",
    "Input <- Output of Model 1\n",
    "         Output of Model 2\n",
    "Output <- OR Gate\n",
    "Approach <- The output from model 1 and model 2 will be given input to model 3\n",
    "'''\n",
    "labels = np.array([0, 1, 1, 1]) \n",
    "model3 = Perceptron(2)\n",
    "model3.train(training_inputs, labels)\n",
    "\n",
    "input = np.array([0,1])\n",
    "out1 = model1.predict(input)\n",
    "out2 = model2.predict(input)\n",
    "result3 = model3.predict(np.array([out1,out2]))\n",
    "\n",
    "'''\n",
    "Objective <- NOT gate\n",
    "Input <- Model 3 Output\n",
    "Output <- NOT of XOR result\n",
    "'''\n",
    "train = np.array([[0],[1]])\n",
    "label = np.array([1,0])\n",
    "model4 = Perceptron(1)\n",
    "model4.train(train,label)\n",
    "print(model4.predict(result3))"
   ]
  },
  {
   "cell_type": "code",
   "execution_count": null,
   "metadata": {},
   "outputs": [],
   "source": []
  }
 ],
 "metadata": {
  "kernelspec": {
   "display_name": "Python 3",
   "language": "python",
   "name": "python3"
  },
  "language_info": {
   "codemirror_mode": {
    "name": "ipython",
    "version": 3
   },
   "file_extension": ".py",
   "mimetype": "text/x-python",
   "name": "python",
   "nbconvert_exporter": "python",
   "pygments_lexer": "ipython3",
   "version": "3.6.5"
  }
 },
 "nbformat": 4,
 "nbformat_minor": 2
}
